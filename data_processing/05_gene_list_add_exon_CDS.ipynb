{
 "cells": [
  {
   "cell_type": "markdown",
   "metadata": {},
   "source": [
    "# Adding affected exon and CDS to gene list, highlighting more impactful SVs"
   ]
  },
  {
   "cell_type": "code",
   "execution_count": null,
   "metadata": {},
   "outputs": [],
   "source": [
    "# import necessary libraries for the analysis\n",
    "import os\n",
    "import csv\n",
    "import numpy as np\n",
    "import matplotlib.pyplot as plt\n",
    "import pandas as pd\n",
    "from pathlib import Path"
   ]
  },
  {
   "cell_type": "code",
   "execution_count": 4,
   "metadata": {},
   "outputs": [],
   "source": [
    "## Import functions\n",
    "\n",
    "os.chdir('/Users/ryanyutian/Documents/GitHub/TRI_LRWGS_glioma/data_processing/functions')\n",
    "%run overlap_and_range_functions.ipynb"
   ]
  },
  {
   "cell_type": "code",
   "execution_count": 3,
   "metadata": {},
   "outputs": [],
   "source": [
    "'''\n",
    "\n",
    "excluded_gene_types = ['IG_C_gene', 'IG_D_gene', 'IG_J_gene', 'IG_LV_gene', 'IG_V_gene', \\\n",
    "                       'TR_C_gene', 'TR_J_gene', 'TR_V_gene', 'TR_D_gene', \\\n",
    "                       'IG_pseudogene', 'IG_C_pseudogene', 'IG_J_pseudogene', 'IG_V_pseudogene', \\\n",
    "                       'TR_V_pseudogene', 'TR_J_pseudogene']\n",
    "                       \n",
    "'''"
   ]
  },
  {
   "cell_type": "markdown",
   "metadata": {},
   "source": [
    "# SMALL DELS"
   ]
  },
  {
   "cell_type": "code",
   "execution_count": 5,
   "metadata": {},
   "outputs": [],
   "source": [
    "small_del_gene_list_path = '/Users/ryanyutian/Desktop/new_panel_TRI_Brain_gene_list/archive/all/small_dels/'\n",
    "\n",
    "somatic_small_del_gene_list_df_names = []\n",
    "\n",
    "os.chdir(small_del_gene_list_path)\n",
    "temp_files = sorted([i for i in os.listdir(small_del_gene_list_path) if 'DS' not in i])\n",
    "\n",
    "for file_name in temp_files:\n",
    "    \n",
    "    globals()[file_name[:-4]] = pd.read_csv(file_name)\n",
    "    somatic_small_del_gene_list_df_names.append(file_name[:-4])"
   ]
  },
  {
   "cell_type": "code",
   "execution_count": 10,
   "metadata": {},
   "outputs": [],
   "source": [
    "for df_name in somatic_small_del_gene_list_df_names:\n",
    "    \n",
    "    globals()[df_name]['gene_id2'] = globals()[df_name]['gene_id'].str.split('.').str[0]"
   ]
  },
  {
   "cell_type": "code",
   "execution_count": 4,
   "metadata": {},
   "outputs": [],
   "source": [
    "small_del_gene_only_list_path = '/Users/ryanyutian/Desktop/new_panel_TRI_Brain_gene_list/gene_only/small_dels/'\n",
    "\n",
    "somatic_small_del_gene_only_list_df_names = []\n",
    "\n",
    "os.chdir(small_del_gene_only_list_path)\n",
    "temp_files = sorted([i for i in os.listdir(small_del_gene_only_list_path) if 'DS' not in i])\n",
    "\n",
    "for file_name in temp_files:\n",
    "    \n",
    "    globals()[file_name[:-9] + '_only_list'] = pd.read_csv(file_name)\n",
    "    somatic_small_del_gene_only_list_df_names.append(file_name[:-9] + '_only_list')"
   ]
  },
  {
   "cell_type": "code",
   "execution_count": 15,
   "metadata": {},
   "outputs": [
    {
     "name": "stdout",
     "output_type": "stream",
     "text": [
      "Currently analyzing: A_RR_GBM809_small_del_gene_only_list\n",
      "Currently analyzing: A_R_GBM607_small_del_gene_only_list\n",
      "Currently analyzing: B_P_GBM593_small_del_gene_only_list\n",
      "Currently analyzing: B_R_GBM898_small_del_gene_only_list\n",
      "Currently analyzing: C_P_GBM577_small_del_gene_only_list\n",
      "Currently analyzing: C_R_GBM625_small_del_gene_only_list\n",
      "Currently analyzing: E_RR_GBM937_small_del_gene_only_list\n",
      "Currently analyzing: E_R_GBM781_small_del_gene_only_list\n",
      "Currently analyzing: F_P_GBM620_small_del_gene_only_list\n",
      "Currently analyzing: F_R_GBM691_small_del_gene_only_list\n",
      "Currently analyzing: G_P_GBM454_small_del_gene_only_list\n",
      "Currently analyzing: G_R_GBM833_small_del_gene_only_list\n",
      "Currently analyzing: H_P_GBM460_small_del_gene_only_list\n",
      "Currently analyzing: H_R_GBM492_small_del_gene_only_list\n",
      "Currently analyzing: I_P_GBM440_small_del_gene_only_list\n",
      "Currently analyzing: I_R_GBM532_small_del_gene_only_list\n",
      "Currently analyzing: J_P_GBM401_small_del_gene_only_list\n",
      "Currently analyzing: J_RR_GBM551_small_del_gene_only_list\n",
      "Currently analyzing: J_R_GBM498_small_del_gene_only_list\n",
      "Currently analyzing: K_P_GBM529_small_del_gene_only_list\n",
      "Currently analyzing: K_R_GBM832_small_del_gene_only_list\n",
      "Currently analyzing: L_P_GBM618_small_del_gene_only_list\n",
      "Currently analyzing: L_R_SMTB152_small_del_gene_only_list\n",
      "Currently analyzing: M_P_GBM672_small_del_gene_only_list\n",
      "Currently analyzing: M_R_GBM828_small_del_gene_only_list\n",
      "Currently analyzing: N_P_BT2013110_small_del_gene_only_list\n",
      "Currently analyzing: N_R_GBM745_small_del_gene_only_list\n",
      "Currently analyzing: O_P_GBM703_small_del_gene_only_list\n",
      "Currently analyzing: O_R_SMTB781_small_del_gene_only_list\n",
      "Currently analyzing: P_P_SMTB123_small_del_gene_only_list\n",
      "Currently analyzing: P_R_SMTB265_small_del_gene_only_list\n",
      "Currently analyzing: Q_P_SMTB665_small_del_gene_only_list\n",
      "Currently analyzing: Q_R_GBM1070_small_del_gene_only_list\n",
      "Currently analyzing: X_R_GBM945_small_del_gene_only_list\n",
      "Currently analyzing: X_R_SMTB135_small_del_gene_only_list\n",
      "Currently analyzing: X_R_SMTB241_small_del_gene_only_list\n",
      "Currently analyzing: X_R_SMTB302_small_del_gene_only_list\n",
      "Currently analyzing: X_R_SMTB814_small_del_gene_only_list\n"
     ]
    }
   ],
   "source": [
    "for df_name in somatic_small_del_gene_only_list_df_names:\n",
    "    \n",
    "    print('Currently analyzing: ' + df_name)\n",
    "    \n",
    "    temp_exon_affected = []\n",
    "    temp_CDS_affected = []\n",
    "    \n",
    "    temp_df = globals()[df_name]\n",
    "    temp_og_gene_df = globals()[df_name[:-9] + 'list']\n",
    "    \n",
    "    for index, row in temp_df.iterrows():\n",
    "            \n",
    "        temp_rows = temp_og_gene_df[temp_og_gene_df['gene_id2'] == row['gene_id2']]\n",
    "\n",
    "        if len(temp_rows[temp_rows['feature'] == 'exon']) > 0:\n",
    "\n",
    "            temp_exon_affected.append(1)\n",
    "\n",
    "        else:\n",
    "\n",
    "            temp_exon_affected.append(0)\n",
    "\n",
    "        if len(temp_rows[temp_rows['feature'] == 'CDS']) > 0:\n",
    "\n",
    "            temp_CDS_affected.append(1)\n",
    "\n",
    "        else:\n",
    "\n",
    "            temp_CDS_affected.append(0)\n",
    "            \n",
    "    globals()[df_name]['exon_affected'] = temp_exon_affected\n",
    "    globals()[df_name]['CDS_affected'] = temp_CDS_affected"
   ]
  },
  {
   "cell_type": "code",
   "execution_count": 16,
   "metadata": {},
   "outputs": [],
   "source": [
    "small_del_gene_annotated_list_path = \\\n",
    "'/Users/ryanyutian/Desktop/new_panel_TRI_Brain_gene_list/gene_only_annotated/small_dels/'\n",
    "\n",
    "for df_name in somatic_small_del_gene_only_list_df_names:\n",
    "    \n",
    "    temp_df = globals()[df_name]\n",
    "    \n",
    "    temp_df.to_csv((small_del_gene_annotated_list_path + df_name + '.csv'), index=False, sep=',')"
   ]
  },
  {
   "cell_type": "markdown",
   "metadata": {},
   "source": [
    "# LARGE DELS"
   ]
  },
  {
   "cell_type": "code",
   "execution_count": 17,
   "metadata": {},
   "outputs": [],
   "source": [
    "large_del_gene_list_path = '/Users/ryanyutian/Desktop/new_panel_TRI_Brain_gene_list/archive/all/large_svs/DEL/'\n",
    "\n",
    "somatic_large_del_gene_list_df_names = []\n",
    "\n",
    "os.chdir(large_del_gene_list_path)\n",
    "\n",
    "temp_files = sorted([i for i in os.listdir(large_del_gene_list_path) if 'DS' not in i])\n",
    "\n",
    "for file_name in temp_files:\n",
    "    \n",
    "    with open(file_name, newline='') as f:\n",
    "        reader = csv.reader(f)\n",
    "        data = list(reader)\n",
    "    \n",
    "    if len(data) > 1:\n",
    "        \n",
    "        globals()[file_name[:-4]] = pd.read_csv(file_name)\n",
    "        somatic_large_del_gene_list_df_names.append(file_name[:-4])"
   ]
  },
  {
   "cell_type": "code",
   "execution_count": 19,
   "metadata": {},
   "outputs": [],
   "source": [
    "for df_name in somatic_large_del_gene_list_df_names:\n",
    "    \n",
    "    globals()[df_name]['gene_id2'] = globals()[df_name]['gene_id'].str.split('.').str[0]"
   ]
  },
  {
   "cell_type": "code",
   "execution_count": 20,
   "metadata": {},
   "outputs": [],
   "source": [
    "large_del_gene_only_list_path = '/Users/ryanyutian/Desktop/new_panel_TRI_Brain_gene_list/gene_only/large_svs/DEL/'\n",
    "\n",
    "somatic_large_del_gene_only_list_df_names = []\n",
    "\n",
    "os.chdir(large_del_gene_only_list_path)\n",
    "\n",
    "temp_files = sorted([i for i in os.listdir(large_del_gene_only_list_path) if 'DS' not in i])\n",
    "\n",
    "for file_name in temp_files:\n",
    "        \n",
    "    with open(file_name, newline='') as f:\n",
    "        reader = csv.reader(f)\n",
    "        data = list(reader)\n",
    "    \n",
    "    if len(data) > 1:\n",
    "\n",
    "        globals()[file_name[:-9] + '_only_list'] = pd.read_csv(file_name)\n",
    "        somatic_large_del_gene_only_list_df_names.append(file_name[:-9] + '_only_list')"
   ]
  },
  {
   "cell_type": "code",
   "execution_count": 24,
   "metadata": {},
   "outputs": [
    {
     "name": "stdout",
     "output_type": "stream",
     "text": [
      "Currently analyzing: A_RR_GBM809_large_DEL_gene_only_list\n",
      "Currently analyzing: A_R_GBM607_large_DEL_gene_only_list\n",
      "Currently analyzing: B_P_GBM593_large_DEL_gene_only_list\n",
      "Currently analyzing: B_R_GBM898_large_DEL_gene_only_list\n",
      "Currently analyzing: C_P_GBM577_large_DEL_gene_only_list\n",
      "Currently analyzing: C_R_GBM625_large_DEL_gene_only_list\n",
      "Currently analyzing: E_RR_GBM937_large_DEL_gene_only_list\n",
      "Currently analyzing: E_R_GBM781_large_DEL_gene_only_list\n",
      "Currently analyzing: F_P_GBM620_large_DEL_gene_only_list\n",
      "Currently analyzing: F_R_GBM691_large_DEL_gene_only_list\n",
      "Currently analyzing: G_P_GBM454_large_DEL_gene_only_list\n",
      "Currently analyzing: G_R_GBM833_large_DEL_gene_only_list\n",
      "Currently analyzing: H_P_GBM460_large_DEL_gene_only_list\n",
      "Currently analyzing: H_R_GBM492_large_DEL_gene_only_list\n",
      "Currently analyzing: I_P_GBM440_large_DEL_gene_only_list\n",
      "Currently analyzing: I_R_GBM532_large_DEL_gene_only_list\n",
      "Currently analyzing: J_P_GBM401_large_DEL_gene_only_list\n",
      "Currently analyzing: J_RR_GBM551_large_DEL_gene_only_list\n",
      "Currently analyzing: J_R_GBM498_large_DEL_gene_only_list\n",
      "Currently analyzing: K_P_GBM529_large_DEL_gene_only_list\n",
      "Currently analyzing: K_R_GBM832_large_DEL_gene_only_list\n",
      "Currently analyzing: L_P_GBM618_large_DEL_gene_only_list\n",
      "Currently analyzing: L_R_SMTB152_large_DEL_gene_only_list\n",
      "Currently analyzing: M_P_GBM672_large_DEL_gene_only_list\n",
      "Currently analyzing: M_R_GBM828_large_DEL_gene_only_list\n",
      "Currently analyzing: N_P_BT2013110_large_DEL_gene_only_list\n",
      "Currently analyzing: N_R_GBM745_large_DEL_gene_only_list\n",
      "Currently analyzing: O_P_GBM703_large_DEL_gene_only_list\n",
      "Currently analyzing: O_R_SMTB781_large_DEL_gene_only_list\n",
      "Currently analyzing: P_P_SMTB123_large_DEL_gene_only_list\n",
      "Currently analyzing: P_R_SMTB265_large_DEL_gene_only_list\n",
      "Currently analyzing: Q_P_SMTB665_large_DEL_gene_only_list\n",
      "Currently analyzing: Q_R_GBM1070_large_DEL_gene_only_list\n",
      "Currently analyzing: X_R_GBM945_large_DEL_gene_only_list\n",
      "Currently analyzing: X_R_SMTB135_large_DEL_gene_only_list\n",
      "Currently analyzing: X_R_SMTB241_large_DEL_gene_only_list\n",
      "Currently analyzing: X_R_SMTB302_large_DEL_gene_only_list\n",
      "Currently analyzing: X_R_SMTB814_large_DEL_gene_only_list\n"
     ]
    }
   ],
   "source": [
    "for df_name in somatic_large_del_gene_only_list_df_names:\n",
    "    \n",
    "    print('Currently analyzing: ' + df_name)\n",
    "    \n",
    "    temp_exon_affected = []\n",
    "    temp_CDS_affected = []\n",
    "    \n",
    "    temp_df = globals()[df_name]\n",
    "    temp_og_gene_df = globals()[df_name[:-18] + 'del_gene_list']\n",
    "    \n",
    "    for index, row in temp_df.iterrows():\n",
    "            \n",
    "        temp_rows = temp_og_gene_df[temp_og_gene_df['gene_id2'] == row['gene_id2']]\n",
    "\n",
    "        if len(temp_rows[temp_rows['feature'] == 'exon']) > 0:\n",
    "\n",
    "            temp_exon_affected.append(1)\n",
    "\n",
    "        else:\n",
    "\n",
    "            temp_exon_affected.append(0)\n",
    "\n",
    "        if len(temp_rows[temp_rows['feature'] == 'CDS']) > 0:\n",
    "\n",
    "            temp_CDS_affected.append(1)\n",
    "\n",
    "        else:\n",
    "\n",
    "            temp_CDS_affected.append(0)\n",
    "            \n",
    "    globals()[df_name]['exon_affected'] = temp_exon_affected\n",
    "    globals()[df_name]['CDS_affected'] = temp_CDS_affected"
   ]
  },
  {
   "cell_type": "code",
   "execution_count": 25,
   "metadata": {},
   "outputs": [],
   "source": [
    "large_del_gene_annotated_list_path = \\\n",
    "'/Users/ryanyutian/Desktop/new_panel_TRI_Brain_gene_list/gene_only_annotated/large_svs/DEL/'\n",
    "\n",
    "for df_name in somatic_large_del_gene_only_list_df_names:\n",
    "    \n",
    "    temp_df = globals()[df_name]\n",
    "    \n",
    "    temp_df.to_csv((large_del_gene_annotated_list_path + df_name + '.csv'), index=False, sep=',')"
   ]
  },
  {
   "cell_type": "code",
   "execution_count": null,
   "metadata": {},
   "outputs": [],
   "source": []
  },
  {
   "cell_type": "markdown",
   "metadata": {},
   "source": [
    "# LARGE DUPS"
   ]
  },
  {
   "cell_type": "code",
   "execution_count": 26,
   "metadata": {},
   "outputs": [],
   "source": [
    "large_dup_gene_list_path = '/Users/ryanyutian/Desktop/new_panel_TRI_Brain_gene_list/archive/all/large_svs/DUP/'\n",
    "\n",
    "somatic_large_dup_gene_list_df_names = []\n",
    "\n",
    "os.chdir(large_dup_gene_list_path)\n",
    "\n",
    "temp_files = sorted([i for i in os.listdir(large_dup_gene_list_path) if 'DS' not in i])\n",
    "\n",
    "for file_name in temp_files:\n",
    "    \n",
    "    with open(file_name, newline='') as f:\n",
    "        reader = csv.reader(f)\n",
    "        data = list(reader)\n",
    "    \n",
    "    if len(data) > 1:\n",
    "        \n",
    "        globals()[file_name[:-4]] = pd.read_csv(file_name)\n",
    "        somatic_large_dup_gene_list_df_names.append(file_name[:-4])"
   ]
  },
  {
   "cell_type": "code",
   "execution_count": 27,
   "metadata": {},
   "outputs": [],
   "source": [
    "for df_name in somatic_large_dup_gene_list_df_names:\n",
    "    \n",
    "    globals()[df_name]['gene_id2'] = globals()[df_name]['gene_id'].str.split('.').str[0]"
   ]
  },
  {
   "cell_type": "code",
   "execution_count": 28,
   "metadata": {},
   "outputs": [],
   "source": [
    "large_dup_gene_only_list_path = '/Users/ryanyutian/Desktop/new_panel_TRI_Brain_gene_list/gene_only/large_svs/DUP/'\n",
    "\n",
    "somatic_large_dup_gene_only_list_df_names = []\n",
    "\n",
    "os.chdir(large_dup_gene_only_list_path)\n",
    "\n",
    "temp_files = sorted([i for i in os.listdir(large_dup_gene_only_list_path) if 'DS' not in i])\n",
    "\n",
    "for file_name in temp_files:\n",
    "        \n",
    "    with open(file_name, newline='') as f:\n",
    "        reader = csv.reader(f)\n",
    "        data = list(reader)\n",
    "    \n",
    "    if len(data) > 1:\n",
    "\n",
    "        globals()[file_name[:-9] + '_only_list'] = pd.read_csv(file_name)\n",
    "        somatic_large_dup_gene_only_list_df_names.append(file_name[:-9] + '_only_list')"
   ]
  },
  {
   "cell_type": "code",
   "execution_count": 29,
   "metadata": {},
   "outputs": [
    {
     "name": "stdout",
     "output_type": "stream",
     "text": [
      "Currently analyzing: A_RR_GBM809_large_DUP_gene_only_list\n",
      "Currently analyzing: A_R_GBM607_large_DUP_gene_only_list\n",
      "Currently analyzing: B_P_GBM593_large_DUP_gene_only_list\n",
      "Currently analyzing: B_R_GBM898_large_DUP_gene_only_list\n",
      "Currently analyzing: C_P_GBM577_large_DUP_gene_only_list\n",
      "Currently analyzing: C_R_GBM625_large_DUP_gene_only_list\n",
      "Currently analyzing: E_RR_GBM937_large_DUP_gene_only_list\n",
      "Currently analyzing: E_R_GBM781_large_DUP_gene_only_list\n",
      "Currently analyzing: F_P_GBM620_large_DUP_gene_only_list\n",
      "Currently analyzing: F_R_GBM691_large_DUP_gene_only_list\n",
      "Currently analyzing: G_P_GBM454_large_DUP_gene_only_list\n",
      "Currently analyzing: G_R_GBM833_large_DUP_gene_only_list\n",
      "Currently analyzing: H_P_GBM460_large_DUP_gene_only_list\n",
      "Currently analyzing: H_R_GBM492_large_DUP_gene_only_list\n",
      "Currently analyzing: I_P_GBM440_large_DUP_gene_only_list\n",
      "Currently analyzing: I_R_GBM532_large_DUP_gene_only_list\n",
      "Currently analyzing: J_P_GBM401_large_DUP_gene_only_list\n",
      "Currently analyzing: J_RR_GBM551_large_DUP_gene_only_list\n",
      "Currently analyzing: J_R_GBM498_large_DUP_gene_only_list\n",
      "Currently analyzing: K_P_GBM529_large_DUP_gene_only_list\n",
      "Currently analyzing: K_R_GBM832_large_DUP_gene_only_list\n",
      "Currently analyzing: L_P_GBM618_large_DUP_gene_only_list\n",
      "Currently analyzing: L_R_SMTB152_large_DUP_gene_only_list\n",
      "Currently analyzing: M_P_GBM672_large_DUP_gene_only_list\n",
      "Currently analyzing: M_R_GBM828_large_DUP_gene_only_list\n",
      "Currently analyzing: N_P_BT2013110_large_DUP_gene_only_list\n",
      "Currently analyzing: N_R_GBM745_large_DUP_gene_only_list\n",
      "Currently analyzing: O_P_GBM703_large_DUP_gene_only_list\n",
      "Currently analyzing: O_R_SMTB781_large_DUP_gene_only_list\n",
      "Currently analyzing: P_P_SMTB123_large_DUP_gene_only_list\n",
      "Currently analyzing: P_R_SMTB265_large_DUP_gene_only_list\n",
      "Currently analyzing: Q_P_SMTB665_large_DUP_gene_only_list\n",
      "Currently analyzing: Q_R_GBM1070_large_DUP_gene_only_list\n",
      "Currently analyzing: X_R_GBM945_large_DUP_gene_only_list\n",
      "Currently analyzing: X_R_SMTB135_large_DUP_gene_only_list\n",
      "Currently analyzing: X_R_SMTB241_large_DUP_gene_only_list\n",
      "Currently analyzing: X_R_SMTB302_large_DUP_gene_only_list\n",
      "Currently analyzing: X_R_SMTB814_large_DUP_gene_only_list\n"
     ]
    }
   ],
   "source": [
    "for df_name in somatic_large_dup_gene_only_list_df_names:\n",
    "    \n",
    "    print('Currently analyzing: ' + df_name)\n",
    "    \n",
    "    temp_exon_affected = []\n",
    "    temp_CDS_affected = []\n",
    "    \n",
    "    temp_df = globals()[df_name]\n",
    "    temp_og_gene_df = globals()[df_name[:-18] + 'dup_gene_list']\n",
    "    \n",
    "    for index, row in temp_df.iterrows():\n",
    "            \n",
    "        temp_rows = temp_og_gene_df[temp_og_gene_df['gene_id2'] == row['gene_id2']]\n",
    "\n",
    "        if len(temp_rows[temp_rows['feature'] == 'exon']) > 0:\n",
    "\n",
    "            temp_exon_affected.append(1)\n",
    "\n",
    "        else:\n",
    "\n",
    "            temp_exon_affected.append(0)\n",
    "\n",
    "        if len(temp_rows[temp_rows['feature'] == 'CDS']) > 0:\n",
    "\n",
    "            temp_CDS_affected.append(1)\n",
    "\n",
    "        else:\n",
    "\n",
    "            temp_CDS_affected.append(0)\n",
    "            \n",
    "    globals()[df_name]['exon_affected'] = temp_exon_affected\n",
    "    globals()[df_name]['CDS_affected'] = temp_CDS_affected"
   ]
  },
  {
   "cell_type": "code",
   "execution_count": 30,
   "metadata": {},
   "outputs": [],
   "source": [
    "large_dup_gene_annotated_list_path = \\\n",
    "'/Users/ryanyutian/Desktop/new_panel_TRI_Brain_gene_list/gene_only_annotated/large_svs/DUP/'\n",
    "\n",
    "for df_name in somatic_large_dup_gene_only_list_df_names:\n",
    "    \n",
    "    temp_df = globals()[df_name]\n",
    "    \n",
    "    temp_df.to_csv((large_dup_gene_annotated_list_path + df_name + '.csv'), index=False, sep=',')"
   ]
  },
  {
   "cell_type": "code",
   "execution_count": null,
   "metadata": {},
   "outputs": [],
   "source": []
  },
  {
   "cell_type": "markdown",
   "metadata": {},
   "source": [
    "# LARGE INVS"
   ]
  },
  {
   "cell_type": "code",
   "execution_count": 31,
   "metadata": {},
   "outputs": [],
   "source": [
    "large_inv_gene_list_path = '/Users/ryanyutian/Desktop/new_panel_TRI_Brain_gene_list/archive/all/large_svs/INV/'\n",
    "\n",
    "somatic_large_inv_gene_list_df_names = []\n",
    "\n",
    "os.chdir(large_inv_gene_list_path)\n",
    "\n",
    "temp_files = sorted([i for i in os.listdir(large_inv_gene_list_path) if 'DS' not in i])\n",
    "\n",
    "for file_name in temp_files:\n",
    "    \n",
    "    with open(file_name, newline='') as f:\n",
    "        reader = csv.reader(f)\n",
    "        data = list(reader)\n",
    "    \n",
    "    if len(data) > 1:\n",
    "        \n",
    "        globals()[file_name[:-4]] = pd.read_csv(file_name)\n",
    "        somatic_large_inv_gene_list_df_names.append(file_name[:-4])"
   ]
  },
  {
   "cell_type": "code",
   "execution_count": 33,
   "metadata": {},
   "outputs": [],
   "source": [
    "for df_name in somatic_large_inv_gene_list_df_names:\n",
    "    \n",
    "    globals()[df_name]['gene_id2'] = globals()[df_name]['gene_id'].str.split('.').str[0]"
   ]
  },
  {
   "cell_type": "code",
   "execution_count": 32,
   "metadata": {},
   "outputs": [],
   "source": [
    "large_inv_gene_only_list_path = '/Users/ryanyutian/Desktop/new_panel_TRI_Brain_gene_list/gene_only/large_svs/INV/'\n",
    "\n",
    "somatic_large_inv_gene_only_list_df_names = []\n",
    "\n",
    "os.chdir(large_inv_gene_only_list_path)\n",
    "\n",
    "temp_files = sorted([i for i in os.listdir(large_inv_gene_only_list_path) if 'DS' not in i])\n",
    "\n",
    "for file_name in temp_files:\n",
    "        \n",
    "    with open(file_name, newline='') as f:\n",
    "        reader = csv.reader(f)\n",
    "        data = list(reader)\n",
    "    \n",
    "    if len(data) > 1:\n",
    "\n",
    "        globals()[file_name[:-9] + '_only_list'] = pd.read_csv(file_name)\n",
    "        somatic_large_inv_gene_only_list_df_names.append(file_name[:-9] + '_only_list')"
   ]
  },
  {
   "cell_type": "code",
   "execution_count": 34,
   "metadata": {},
   "outputs": [
    {
     "name": "stdout",
     "output_type": "stream",
     "text": [
      "Currently analyzing: A_RR_GBM809_large_INV_gene_only_list\n",
      "Currently analyzing: A_R_GBM607_large_INV_gene_only_list\n",
      "Currently analyzing: B_P_GBM593_large_INV_gene_only_list\n",
      "Currently analyzing: B_R_GBM898_large_INV_gene_only_list\n",
      "Currently analyzing: C_P_GBM577_large_INV_gene_only_list\n",
      "Currently analyzing: C_R_GBM625_large_INV_gene_only_list\n",
      "Currently analyzing: E_RR_GBM937_large_INV_gene_only_list\n",
      "Currently analyzing: E_R_GBM781_large_INV_gene_only_list\n",
      "Currently analyzing: F_P_GBM620_large_INV_gene_only_list\n",
      "Currently analyzing: F_R_GBM691_large_INV_gene_only_list\n",
      "Currently analyzing: G_P_GBM454_large_INV_gene_only_list\n",
      "Currently analyzing: G_R_GBM833_large_INV_gene_only_list\n",
      "Currently analyzing: H_P_GBM460_large_INV_gene_only_list\n",
      "Currently analyzing: H_R_GBM492_large_INV_gene_only_list\n",
      "Currently analyzing: I_P_GBM440_large_INV_gene_only_list\n",
      "Currently analyzing: I_R_GBM532_large_INV_gene_only_list\n",
      "Currently analyzing: J_P_GBM401_large_INV_gene_only_list\n",
      "Currently analyzing: J_RR_GBM551_large_INV_gene_only_list\n",
      "Currently analyzing: J_R_GBM498_large_INV_gene_only_list\n",
      "Currently analyzing: K_P_GBM529_large_INV_gene_only_list\n",
      "Currently analyzing: K_R_GBM832_large_INV_gene_only_list\n",
      "Currently analyzing: L_P_GBM618_large_INV_gene_only_list\n",
      "Currently analyzing: L_R_SMTB152_large_INV_gene_only_list\n",
      "Currently analyzing: M_P_GBM672_large_INV_gene_only_list\n",
      "Currently analyzing: N_P_BT2013110_large_INV_gene_only_list\n",
      "Currently analyzing: N_R_GBM745_large_INV_gene_only_list\n",
      "Currently analyzing: O_P_GBM703_large_INV_gene_only_list\n",
      "Currently analyzing: O_R_SMTB781_large_INV_gene_only_list\n",
      "Currently analyzing: P_P_SMTB123_large_INV_gene_only_list\n",
      "Currently analyzing: P_R_SMTB265_large_INV_gene_only_list\n",
      "Currently analyzing: Q_R_GBM1070_large_INV_gene_only_list\n",
      "Currently analyzing: X_R_GBM945_large_INV_gene_only_list\n",
      "Currently analyzing: X_R_SMTB135_large_INV_gene_only_list\n",
      "Currently analyzing: X_R_SMTB241_large_INV_gene_only_list\n",
      "Currently analyzing: X_R_SMTB302_large_INV_gene_only_list\n",
      "Currently analyzing: X_R_SMTB814_large_INV_gene_only_list\n"
     ]
    }
   ],
   "source": [
    "for df_name in somatic_large_inv_gene_only_list_df_names:\n",
    "    \n",
    "    print('Currently analyzing: ' + df_name)\n",
    "    \n",
    "    temp_exon_affected = []\n",
    "    temp_CDS_affected = []\n",
    "    \n",
    "    temp_df = globals()[df_name]\n",
    "    temp_og_gene_df = globals()[df_name[:-18] + 'inv_gene_list']\n",
    "    \n",
    "    for index, row in temp_df.iterrows():\n",
    "            \n",
    "        temp_rows = temp_og_gene_df[temp_og_gene_df['gene_id2'] == row['gene_id2']]\n",
    "\n",
    "        if len(temp_rows[temp_rows['feature'] == 'exon']) > 0:\n",
    "\n",
    "            temp_exon_affected.append(1)\n",
    "\n",
    "        else:\n",
    "\n",
    "            temp_exon_affected.append(0)\n",
    "\n",
    "        if len(temp_rows[temp_rows['feature'] == 'CDS']) > 0:\n",
    "\n",
    "            temp_CDS_affected.append(1)\n",
    "\n",
    "        else:\n",
    "\n",
    "            temp_CDS_affected.append(0)\n",
    "            \n",
    "    globals()[df_name]['exon_affected'] = temp_exon_affected\n",
    "    globals()[df_name]['CDS_affected'] = temp_CDS_affected"
   ]
  },
  {
   "cell_type": "code",
   "execution_count": 35,
   "metadata": {},
   "outputs": [],
   "source": [
    "large_inv_gene_annotated_list_path = \\\n",
    "'/Users/ryanyutian/Desktop/new_panel_TRI_Brain_gene_list/gene_only_annotated/large_svs/INV/'\n",
    "\n",
    "for df_name in somatic_large_inv_gene_only_list_df_names:\n",
    "    \n",
    "    temp_df = globals()[df_name]\n",
    "    \n",
    "    temp_df.to_csv((large_inv_gene_annotated_list_path + df_name + '.csv'), index=False, sep=',')"
   ]
  },
  {
   "cell_type": "code",
   "execution_count": null,
   "metadata": {},
   "outputs": [],
   "source": []
  }
 ],
 "metadata": {
  "kernelspec": {
   "display_name": "Python 3",
   "language": "python",
   "name": "python3"
  },
  "language_info": {
   "codemirror_mode": {
    "name": "ipython",
    "version": 3
   },
   "file_extension": ".py",
   "mimetype": "text/x-python",
   "name": "python",
   "nbconvert_exporter": "python",
   "pygments_lexer": "ipython3",
   "version": "3.8.5"
  }
 },
 "nbformat": 4,
 "nbformat_minor": 5
}
