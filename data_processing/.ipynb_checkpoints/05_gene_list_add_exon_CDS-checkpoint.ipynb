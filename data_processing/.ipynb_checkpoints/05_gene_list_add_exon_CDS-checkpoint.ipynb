{
 "cells": [
  {
   "cell_type": "markdown",
   "metadata": {},
   "source": [
    "# Adding affected exon and CDS to gene list, highlighting more impactful SVs"
   ]
  },
  {
   "cell_type": "code",
   "execution_count": 11,
   "metadata": {},
   "outputs": [],
   "source": [
    "# import necessary libraries for the analysis\n",
    "import os\n",
    "import csv\n",
    "import numpy as np\n",
    "import matplotlib.pyplot as plt\n",
    "import pandas as pd\n",
    "from pathlib import Path"
   ]
  },
  {
   "cell_type": "code",
   "execution_count": 14,
   "metadata": {},
   "outputs": [],
   "source": [
    "## Import functions\n",
    "\n",
    "os.chdir('/Users/ryanyutian/Documents/GitHub/TRI_LRWGS_glioma/data_processing/functions')\n",
    "%run overlap_and_range_functions.ipynb"
   ]
  },
  {
   "cell_type": "markdown",
   "metadata": {},
   "source": [
    "# LARGE DELS"
   ]
  },
  {
   "cell_type": "code",
   "execution_count": 32,
   "metadata": {},
   "outputs": [],
   "source": [
    "large_DEL_gene_list_path = '/Users/ryanyutian/Desktop/Manuscript/gene_list/all_gencode/DEL/'\n",
    "\n",
    "somatic_large_DEL_gene_list_dfs = {}\n",
    "\n",
    "os.chdir(large_DEL_gene_list_path)\n",
    "\n",
    "temp_files = sorted([i for i in os.listdir(large_DEL_gene_list_path) if 'DS' not in i])\n",
    "\n",
    "for file_name in temp_files:\n",
    "    \n",
    "    with open(file_name, newline='') as f:\n",
    "        reader = csv.reader(f)\n",
    "        data = list(reader)\n",
    "    \n",
    "    if len(data) > 1:\n",
    "        \n",
    "        somatic_large_DEL_gene_list_dfs[file_name[:-4]] = pd.read_csv(file_name)"
   ]
  },
  {
   "cell_type": "code",
   "execution_count": 19,
   "metadata": {},
   "outputs": [],
   "source": [
    "for df_name in somatic_large_DEL_gene_list_dfs:\n",
    "    \n",
    "    somatic_large_DEL_gene_list_dfs[df_name]['gene_id2'] = somatic_large_DEL_gene_list_dfs[df_name]['gene_id'].str.split('.').str[0]"
   ]
  },
  {
   "cell_type": "code",
   "execution_count": 31,
   "metadata": {},
   "outputs": [],
   "source": [
    "large_DEL_gene_only_list_path = '/Users/ryanyutian/Desktop/Manuscript/gene_list/gene_only/DEL/'\n",
    "\n",
    "somatic_large_DEL_gene_only_list_dfs = {}\n",
    "\n",
    "os.chdir(large_DEL_gene_only_list_path)\n",
    "\n",
    "temp_files = sorted([i for i in os.listdir(large_DEL_gene_only_list_path) if 'DS' not in i])\n",
    "\n",
    "for file_name in temp_files:\n",
    "        \n",
    "    with open(file_name, newline='') as f:\n",
    "        reader = csv.reader(f)\n",
    "        data = list(reader)\n",
    "    \n",
    "    if len(data) > 1:\n",
    "\n",
    "        somatic_large_DEL_gene_only_list_dfs[file_name[:-4]] = pd.read_csv(file_name)"
   ]
  },
  {
   "cell_type": "code",
   "execution_count": 37,
   "metadata": {},
   "outputs": [
    {
     "name": "stdout",
     "output_type": "stream",
     "text": [
      "Currently analyzing: A_RR_GBM809_large_DEL_gene_list\n",
      "Currently analyzing: A_R_GBM607_large_DEL_gene_list\n",
      "Currently analyzing: B_P_GBM593_large_DEL_gene_list\n",
      "Currently analyzing: B_R_GBM898_large_DEL_gene_list\n",
      "Currently analyzing: C_RR_GBM937_large_DEL_gene_list\n",
      "Currently analyzing: C_R_GBM781_large_DEL_gene_list\n",
      "Currently analyzing: D_P_GBM620_large_DEL_gene_list\n",
      "Currently analyzing: D_R_GBM691_large_DEL_gene_list\n",
      "Currently analyzing: E_P_GBM454_large_DEL_gene_list\n",
      "Currently analyzing: E_R_GBM833_large_DEL_gene_list\n",
      "Currently analyzing: F_P_GBM460_large_DEL_gene_list\n",
      "Currently analyzing: F_R_GBM492_large_DEL_gene_list\n",
      "Currently analyzing: G_P_GBM401_large_DEL_gene_list\n",
      "Currently analyzing: G_RR_GBM551_large_DEL_gene_list\n",
      "Currently analyzing: G_R_GBM498_large_DEL_gene_list\n",
      "Currently analyzing: H_P_GBM529_large_DEL_gene_list\n",
      "Currently analyzing: H_R_GBM832_large_DEL_gene_list\n",
      "Currently analyzing: I_P_BT2013110_large_DEL_gene_list\n",
      "Currently analyzing: I_R_GBM745_large_DEL_gene_list\n",
      "Currently analyzing: J_P_GBM703_large_DEL_gene_list\n",
      "Currently analyzing: J_R_SMTB781_large_DEL_gene_list\n",
      "Currently analyzing: X_P_GBM440_large_DEL_gene_list\n",
      "Currently analyzing: X_P_GBM577_large_DEL_gene_list\n",
      "Currently analyzing: X_P_GBM618_large_DEL_gene_list\n",
      "Currently analyzing: X_P_GBM672_large_DEL_gene_list\n",
      "Currently analyzing: X_P_SMTB123_large_DEL_gene_list\n",
      "Currently analyzing: X_R_GBM945_large_DEL_gene_list\n",
      "Currently analyzing: X_R_SMTB135_large_DEL_gene_list\n",
      "Currently analyzing: X_R_SMTB241_large_DEL_gene_list\n",
      "Currently analyzing: X_R_SMTB302_large_DEL_gene_list\n",
      "Currently analyzing: X_R_SMTB814_large_DEL_gene_list\n"
     ]
    }
   ],
   "source": [
    "for df_name in somatic_large_DEL_gene_only_list_dfs:\n",
    "    \n",
    "    print('Currently analyzing: ' + df_name)\n",
    "    \n",
    "    temp_exon_affected = []\n",
    "    temp_CDS_affected = []\n",
    "    \n",
    "    temp_df = somatic_large_DEL_gene_only_list_dfs[df_name]\n",
    "    temp_og_gene_df = somatic_large_DEL_gene_list_dfs[df_name[:-19] + 'DEL_all_list']\n",
    "    \n",
    "    for index, row in temp_df.iterrows():\n",
    "            \n",
    "        temp_rows = temp_og_gene_df[temp_og_gene_df['gene_id2'] == row['gene_id2']]\n",
    "\n",
    "        if len(temp_rows[temp_rows['feature'] == 'exon']) > 0:\n",
    "\n",
    "            temp_exon_affected.append(1)\n",
    "\n",
    "        else:\n",
    "\n",
    "            temp_exon_affected.append(0)\n",
    "\n",
    "        if len(temp_rows[temp_rows['feature'] == 'CDS']) > 0:\n",
    "\n",
    "            temp_CDS_affected.append(1)\n",
    "\n",
    "        else:\n",
    "\n",
    "            temp_CDS_affected.append(0)\n",
    "            \n",
    "    somatic_large_DEL_gene_only_list_dfs[df_name]['exon_affected'] = temp_exon_affected\n",
    "    somatic_large_DEL_gene_only_list_dfs[df_name]['CDS_affected'] = temp_CDS_affected"
   ]
  },
  {
   "cell_type": "code",
   "execution_count": 38,
   "metadata": {},
   "outputs": [],
   "source": [
    "large_DEL_gene_annotated_list_path = \\\n",
    "'/Users/ryanyutian/Desktop/Manuscript/gene_list/annotated/DEL/'\n",
    "\n",
    "for df_name in somatic_large_DEL_gene_only_list_dfs:\n",
    "    \n",
    "    temp_df = somatic_large_DEL_gene_only_list_dfs[df_name]\n",
    "    \n",
    "    temp_df.to_csv((large_DEL_gene_annotated_list_path + df_name + '.csv'), index=False, sep=',')"
   ]
  },
  {
   "cell_type": "markdown",
   "metadata": {},
   "source": [
    "# LARGE DUPS"
   ]
  },
  {
   "cell_type": "code",
   "execution_count": 42,
   "metadata": {},
   "outputs": [],
   "source": [
    "large_DUP_gene_list_path = '/Users/ryanyutian/Desktop/Manuscript/gene_list/all_gencode/DUP/'\n",
    "\n",
    "somatic_large_DUP_gene_list_dfs = {}\n",
    "\n",
    "os.chdir(large_DUP_gene_list_path)\n",
    "\n",
    "temp_files = sorted([i for i in os.listdir(large_DUP_gene_list_path) if 'DS' not in i])\n",
    "\n",
    "for file_name in temp_files:\n",
    "    \n",
    "    with open(file_name, newline='') as f:\n",
    "        reader = csv.reader(f)\n",
    "        data = list(reader)\n",
    "    \n",
    "    if len(data) > 1:\n",
    "        \n",
    "        somatic_large_DUP_gene_list_dfs[file_name[:-4]] = pd.read_csv(file_name)"
   ]
  },
  {
   "cell_type": "code",
   "execution_count": 43,
   "metadata": {},
   "outputs": [],
   "source": [
    "for df_name in somatic_large_DUP_gene_list_dfs:\n",
    "    \n",
    "    somatic_large_DUP_gene_list_dfs[df_name]['gene_id2'] = somatic_large_DUP_gene_list_dfs[df_name]['gene_id'].str.split('.').str[0]"
   ]
  },
  {
   "cell_type": "code",
   "execution_count": 44,
   "metadata": {},
   "outputs": [],
   "source": [
    "large_DUP_gene_only_list_path = '/Users/ryanyutian/Desktop/Manuscript/gene_list/gene_only/DUP/'\n",
    "\n",
    "somatic_large_DUP_gene_only_list_dfs = {}\n",
    "\n",
    "os.chdir(large_DUP_gene_only_list_path)\n",
    "\n",
    "temp_files = sorted([i for i in os.listdir(large_DUP_gene_only_list_path) if 'DS' not in i])\n",
    "\n",
    "for file_name in temp_files:\n",
    "        \n",
    "    with open(file_name, newline='') as f:\n",
    "        reader = csv.reader(f)\n",
    "        data = list(reader)\n",
    "    \n",
    "    if len(data) > 1:\n",
    "\n",
    "        somatic_large_DUP_gene_only_list_dfs[file_name[:-4]] = pd.read_csv(file_name)"
   ]
  },
  {
   "cell_type": "code",
   "execution_count": 45,
   "metadata": {},
   "outputs": [
    {
     "name": "stdout",
     "output_type": "stream",
     "text": [
      "Currently analyzing: A_RR_GBM809_large_DUP_gene_list\n",
      "Currently analyzing: A_R_GBM607_large_DUP_gene_list\n",
      "Currently analyzing: B_P_GBM593_large_DUP_gene_list\n",
      "Currently analyzing: B_R_GBM898_large_DUP_gene_list\n",
      "Currently analyzing: C_RR_GBM937_large_DUP_gene_list\n",
      "Currently analyzing: C_R_GBM781_large_DUP_gene_list\n",
      "Currently analyzing: D_P_GBM620_large_DUP_gene_list\n",
      "Currently analyzing: D_R_GBM691_large_DUP_gene_list\n",
      "Currently analyzing: E_P_GBM454_large_DUP_gene_list\n",
      "Currently analyzing: E_R_GBM833_large_DUP_gene_list\n",
      "Currently analyzing: F_P_GBM460_large_DUP_gene_list\n",
      "Currently analyzing: F_R_GBM492_large_DUP_gene_list\n",
      "Currently analyzing: G_P_GBM401_large_DUP_gene_list\n",
      "Currently analyzing: G_RR_GBM551_large_DUP_gene_list\n",
      "Currently analyzing: G_R_GBM498_large_DUP_gene_list\n",
      "Currently analyzing: H_P_GBM529_large_DUP_gene_list\n",
      "Currently analyzing: H_R_GBM832_large_DUP_gene_list\n",
      "Currently analyzing: I_P_BT2013110_large_DUP_gene_list\n",
      "Currently analyzing: I_R_GBM745_large_DUP_gene_list\n",
      "Currently analyzing: J_P_GBM703_large_DUP_gene_list\n",
      "Currently analyzing: J_R_SMTB781_large_DUP_gene_list\n",
      "Currently analyzing: X_P_GBM440_large_DUP_gene_list\n",
      "Currently analyzing: X_P_GBM577_large_DUP_gene_list\n",
      "Currently analyzing: X_P_GBM618_large_DUP_gene_list\n",
      "Currently analyzing: X_P_GBM672_large_DUP_gene_list\n",
      "Currently analyzing: X_P_SMTB123_large_DUP_gene_list\n",
      "Currently analyzing: X_R_GBM945_large_DUP_gene_list\n",
      "Currently analyzing: X_R_SMTB135_large_DUP_gene_list\n",
      "Currently analyzing: X_R_SMTB241_large_DUP_gene_list\n",
      "Currently analyzing: X_R_SMTB302_large_DUP_gene_list\n",
      "Currently analyzing: X_R_SMTB814_large_DUP_gene_list\n"
     ]
    }
   ],
   "source": [
    "for df_name in somatic_large_DUP_gene_only_list_dfs:\n",
    "    \n",
    "    print('Currently analyzing: ' + df_name)\n",
    "    \n",
    "    temp_exon_affected = []\n",
    "    temp_CDS_affected = []\n",
    "    \n",
    "    temp_df = somatic_large_DUP_gene_only_list_dfs[df_name]\n",
    "    temp_og_gene_df = somatic_large_DUP_gene_list_dfs[df_name[:-19] + 'DUP_all_list']\n",
    "    \n",
    "    for index, row in temp_df.iterrows():\n",
    "            \n",
    "        temp_rows = temp_og_gene_df[temp_og_gene_df['gene_id2'] == row['gene_id2']]\n",
    "\n",
    "        if len(temp_rows[temp_rows['feature'] == 'exon']) > 0:\n",
    "\n",
    "            temp_exon_affected.append(1)\n",
    "\n",
    "        else:\n",
    "\n",
    "            temp_exon_affected.append(0)\n",
    "\n",
    "        if len(temp_rows[temp_rows['feature'] == 'CDS']) > 0:\n",
    "\n",
    "            temp_CDS_affected.append(1)\n",
    "\n",
    "        else:\n",
    "\n",
    "            temp_CDS_affected.append(0)\n",
    "            \n",
    "    somatic_large_DUP_gene_only_list_dfs[df_name]['exon_affected'] = temp_exon_affected\n",
    "    somatic_large_DUP_gene_only_list_dfs[df_name]['CDS_affected'] = temp_CDS_affected"
   ]
  },
  {
   "cell_type": "code",
   "execution_count": 46,
   "metadata": {},
   "outputs": [],
   "source": [
    "large_DUP_gene_annotated_list_path = \\\n",
    "'/Users/ryanyutian/Desktop/Manuscript/gene_list/annotated/DUP/'\n",
    "\n",
    "for df_name in somatic_large_DUP_gene_only_list_dfs:\n",
    "    \n",
    "    temp_df = somatic_large_DUP_gene_only_list_dfs[df_name]\n",
    "    \n",
    "    temp_df.to_csv((large_DUP_gene_annotated_list_path + df_name + '.csv'), index=False, sep=',')"
   ]
  },
  {
   "cell_type": "markdown",
   "metadata": {},
   "source": [
    "# LARGE INVS"
   ]
  },
  {
   "cell_type": "code",
   "execution_count": 47,
   "metadata": {},
   "outputs": [],
   "source": [
    "large_INV_gene_list_path = '/Users/ryanyutian/Desktop/Manuscript/gene_list/all_gencode/INV/'\n",
    "\n",
    "somatic_large_INV_gene_list_dfs = {}\n",
    "\n",
    "os.chdir(large_INV_gene_list_path)\n",
    "\n",
    "temp_files = sorted([i for i in os.listdir(large_INV_gene_list_path) if 'DS' not in i])\n",
    "\n",
    "for file_name in temp_files:\n",
    "    \n",
    "    with open(file_name, newline='') as f:\n",
    "        reader = csv.reader(f)\n",
    "        data = list(reader)\n",
    "    \n",
    "    if len(data) > 1:\n",
    "        \n",
    "        somatic_large_INV_gene_list_dfs[file_name[:-4]] = pd.read_csv(file_name)"
   ]
  },
  {
   "cell_type": "code",
   "execution_count": 48,
   "metadata": {},
   "outputs": [],
   "source": [
    "for df_name in somatic_large_INV_gene_list_dfs:\n",
    "    \n",
    "    somatic_large_INV_gene_list_dfs[df_name]['gene_id2'] = somatic_large_INV_gene_list_dfs[df_name]['gene_id'].str.split('.').str[0]"
   ]
  },
  {
   "cell_type": "code",
   "execution_count": 49,
   "metadata": {},
   "outputs": [],
   "source": [
    "large_INV_gene_only_list_path = '/Users/ryanyutian/Desktop/Manuscript/gene_list/gene_only/INV/'\n",
    "\n",
    "somatic_large_INV_gene_only_list_dfs = {}\n",
    "\n",
    "os.chdir(large_INV_gene_only_list_path)\n",
    "\n",
    "temp_files = sorted([i for i in os.listdir(large_INV_gene_only_list_path) if 'DS' not in i])\n",
    "\n",
    "for file_name in temp_files:\n",
    "        \n",
    "    with open(file_name, newline='') as f:\n",
    "        reader = csv.reader(f)\n",
    "        data = list(reader)\n",
    "    \n",
    "    if len(data) > 1:\n",
    "\n",
    "        somatic_large_INV_gene_only_list_dfs[file_name[:-4]] = pd.read_csv(file_name)"
   ]
  },
  {
   "cell_type": "code",
   "execution_count": 50,
   "metadata": {},
   "outputs": [
    {
     "name": "stdout",
     "output_type": "stream",
     "text": [
      "Currently analyzing: A_RR_GBM809_large_INV_gene_list\n",
      "Currently analyzing: A_R_GBM607_large_INV_gene_list\n",
      "Currently analyzing: B_P_GBM593_large_INV_gene_list\n",
      "Currently analyzing: B_R_GBM898_large_INV_gene_list\n",
      "Currently analyzing: C_RR_GBM937_large_INV_gene_list\n",
      "Currently analyzing: C_R_GBM781_large_INV_gene_list\n",
      "Currently analyzing: D_P_GBM620_large_INV_gene_list\n",
      "Currently analyzing: D_R_GBM691_large_INV_gene_list\n",
      "Currently analyzing: E_P_GBM454_large_INV_gene_list\n",
      "Currently analyzing: E_R_GBM833_large_INV_gene_list\n",
      "Currently analyzing: F_P_GBM460_large_INV_gene_list\n",
      "Currently analyzing: F_R_GBM492_large_INV_gene_list\n",
      "Currently analyzing: G_P_GBM401_large_INV_gene_list\n",
      "Currently analyzing: G_RR_GBM551_large_INV_gene_list\n",
      "Currently analyzing: G_R_GBM498_large_INV_gene_list\n",
      "Currently analyzing: H_P_GBM529_large_INV_gene_list\n",
      "Currently analyzing: H_R_GBM832_large_INV_gene_list\n",
      "Currently analyzing: I_P_BT2013110_large_INV_gene_list\n",
      "Currently analyzing: I_R_GBM745_large_INV_gene_list\n",
      "Currently analyzing: J_P_GBM703_large_INV_gene_list\n",
      "Currently analyzing: J_R_SMTB781_large_INV_gene_list\n",
      "Currently analyzing: X_P_GBM440_large_INV_gene_list\n",
      "Currently analyzing: X_P_GBM577_large_INV_gene_list\n",
      "Currently analyzing: X_P_GBM618_large_INV_gene_list\n",
      "Currently analyzing: X_P_GBM672_large_INV_gene_list\n",
      "Currently analyzing: X_P_SMTB123_large_INV_gene_list\n",
      "Currently analyzing: X_R_GBM945_large_INV_gene_list\n",
      "Currently analyzing: X_R_SMTB135_large_INV_gene_list\n",
      "Currently analyzing: X_R_SMTB241_large_INV_gene_list\n",
      "Currently analyzing: X_R_SMTB302_large_INV_gene_list\n",
      "Currently analyzing: X_R_SMTB814_large_INV_gene_list\n"
     ]
    }
   ],
   "source": [
    "for df_name in somatic_large_INV_gene_only_list_dfs:\n",
    "    \n",
    "    print('Currently analyzing: ' + df_name)\n",
    "    \n",
    "    temp_exon_affected = []\n",
    "    temp_CDS_affected = []\n",
    "    \n",
    "    temp_df = somatic_large_INV_gene_only_list_dfs[df_name]\n",
    "    temp_og_gene_df = somatic_large_INV_gene_list_dfs[df_name[:-19] + 'INV_all_list']\n",
    "    \n",
    "    for index, row in temp_df.iterrows():\n",
    "            \n",
    "        temp_rows = temp_og_gene_df[temp_og_gene_df['gene_id2'] == row['gene_id2']]\n",
    "\n",
    "        if len(temp_rows[temp_rows['feature'] == 'exon']) > 0:\n",
    "\n",
    "            temp_exon_affected.append(1)\n",
    "\n",
    "        else:\n",
    "\n",
    "            temp_exon_affected.append(0)\n",
    "\n",
    "        if len(temp_rows[temp_rows['feature'] == 'CDS']) > 0:\n",
    "\n",
    "            temp_CDS_affected.append(1)\n",
    "\n",
    "        else:\n",
    "\n",
    "            temp_CDS_affected.append(0)\n",
    "            \n",
    "    somatic_large_INV_gene_only_list_dfs[df_name]['exon_affected'] = temp_exon_affected\n",
    "    somatic_large_INV_gene_only_list_dfs[df_name]['CDS_affected'] = temp_CDS_affected"
   ]
  },
  {
   "cell_type": "code",
   "execution_count": 51,
   "metadata": {},
   "outputs": [],
   "source": [
    "large_INV_gene_annotated_list_path = \\\n",
    "'/Users/ryanyutian/Desktop/Manuscript/gene_list/annotated/INV/'\n",
    "\n",
    "for df_name in somatic_large_INV_gene_only_list_dfs:\n",
    "    \n",
    "    temp_df = somatic_large_INV_gene_only_list_dfs[df_name]\n",
    "    \n",
    "    temp_df.to_csv((large_INV_gene_annotated_list_path + df_name + '.csv'), index=False, sep=',')"
   ]
  },
  {
   "cell_type": "code",
   "execution_count": null,
   "metadata": {},
   "outputs": [],
   "source": []
  }
 ],
 "metadata": {
  "kernelspec": {
   "display_name": "Python 3",
   "language": "python",
   "name": "python3"
  },
  "language_info": {
   "codemirror_mode": {
    "name": "ipython",
    "version": 3
   },
   "file_extension": ".py",
   "mimetype": "text/x-python",
   "name": "python",
   "nbconvert_exporter": "python",
   "pygments_lexer": "ipython3",
   "version": "3.8.5"
  }
 },
 "nbformat": 4,
 "nbformat_minor": 5
}
