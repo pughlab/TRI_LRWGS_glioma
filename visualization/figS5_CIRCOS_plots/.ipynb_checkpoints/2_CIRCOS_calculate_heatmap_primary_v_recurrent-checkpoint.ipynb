{
 "cells": [
  {
   "cell_type": "code",
   "execution_count": 1,
   "metadata": {},
   "outputs": [],
   "source": [
    "import pycircos\n",
    "import collections\n",
    "import matplotlib.pyplot as plt"
   ]
  },
  {
   "cell_type": "code",
   "execution_count": 2,
   "metadata": {},
   "outputs": [],
   "source": [
    "import os\n",
    "import pandas as pd\n",
    "import numpy as np"
   ]
  },
  {
   "cell_type": "code",
   "execution_count": 3,
   "metadata": {},
   "outputs": [],
   "source": [
    "pd.options.display.max_rows = 200"
   ]
  },
  {
   "cell_type": "code",
   "execution_count": 4,
   "metadata": {},
   "outputs": [],
   "source": [
    "from intervaltree import Interval, IntervalTree\n",
    "\n",
    "def collapse_intervals(df):\n",
    "    # Create an interval tree from DataFrame intervals, incrementing end point by 1\n",
    "    tree = IntervalTree(Interval(row.POS, row.END + 1, 1) for row in df.itertuples())\n",
    "\n",
    "    # Merge overlapping intervals in the tree\n",
    "    tree.merge_overlaps()\n",
    "\n",
    "    # Re-create DataFrame from merged intervals, decrementing end point by 1\n",
    "    collapsed_df = pd.DataFrame([(iv.begin, iv.end - 1) for iv in tree], columns=['POS', 'END'])\n",
    "\n",
    "    return collapsed_df\n",
    "\n",
    "def heatmap_data(dataframes, chrom):\n",
    "    # Collapse intervals in each DataFrame and combine all into one\n",
    "    combined_df = pd.concat([collapse_intervals(df) for df in dataframes])\n",
    "    \n",
    "    if len(combined_df) == 0:\n",
    "        return pd.DataFrame(columns=['chr', 'start', 'end', 'value'])\n",
    "    \n",
    "    # Create an array for the whole range\n",
    "    min_start = combined_df['POS'].min()\n",
    "    max_end = combined_df['END'].max()\n",
    "    all_range = np.zeros(max_end - min_start + 1)\n",
    "    \n",
    "    # Iterate through each range and increment count\n",
    "    for _, row in combined_df.iterrows():\n",
    "        all_range[row['POS'] - min_start : row['END'] - min_start + 1] += 1\n",
    "    \n",
    "    # Create the output data\n",
    "    output_data = []\n",
    "    current_value = all_range[0]\n",
    "    start_range = min_start\n",
    "    for i in range(1, len(all_range)):\n",
    "        if all_range[i] != current_value:\n",
    "            output_data.append((chrom, start_range, min_start + i - 1, current_value))\n",
    "            start_range = min_start + i\n",
    "            current_value = all_range[i]\n",
    "    \n",
    "    # Add the last range\n",
    "    output_data.append((chrom, start_range, max_end, current_value))\n",
    "    \n",
    "    # Convert to DataFrame\n",
    "    output_df = pd.DataFrame(output_data, columns=['chr', 'start', 'end', 'value'])\n",
    "    \n",
    "    return output_df\n"
   ]
  },
  {
   "cell_type": "code",
   "execution_count": 5,
   "metadata": {},
   "outputs": [],
   "source": [
    "chromosomes = ['chr1', 'chr2', 'chr3', 'chr4', 'chr5', 'chr6', 'chr7', 'chr8', 'chr9', 'chr10', \\\n",
    "               'chr11', 'chr12', 'chr13', 'chr14', 'chr15', 'chr16', 'chr17', 'chr18', 'chr19', 'chr20', \\\n",
    "               'chr21', 'chr22', 'chrX', 'chrY']"
   ]
  },
  {
   "cell_type": "markdown",
   "metadata": {},
   "source": [
    "## Large deletions"
   ]
  },
  {
   "cell_type": "code",
   "execution_count": 6,
   "metadata": {},
   "outputs": [],
   "source": [
    "### Load filtered somatic large deletions ###\n",
    "\n",
    "##\n",
    "somatic_large_DEL_path = '/Users/ryanyutian/Desktop/Manuscript/filtered_sv/DEL'\n",
    "\n",
    "somatic_large_DEL_filtered_df_names = []\n",
    "\n",
    "os.chdir(somatic_large_DEL_path)\n",
    "temp_files = sorted([i for i in os.listdir(somatic_large_DEL_path) if 'DS' not in i])\n",
    "\n",
    "for file_name in temp_files:\n",
    "    \n",
    "    globals()[file_name[:-4]] = pd.read_csv(file_name)\n",
    "    somatic_large_DEL_filtered_df_names.append(file_name[:-4])"
   ]
  },
  {
   "cell_type": "code",
   "execution_count": 7,
   "metadata": {},
   "outputs": [
    {
     "data": {
      "text/plain": [
       "['A_RR_GBM809_DEL',\n",
       " 'A_R_GBM607_DEL',\n",
       " 'B_P_GBM593_DEL',\n",
       " 'B_R_GBM898_DEL',\n",
       " 'C_RR_GBM937_DEL',\n",
       " 'C_R_GBM781_DEL',\n",
       " 'D_P_GBM620_DEL',\n",
       " 'D_R_GBM691_DEL',\n",
       " 'E_P_GBM454_DEL',\n",
       " 'E_R_GBM833_DEL',\n",
       " 'F_P_GBM460_DEL',\n",
       " 'F_R_GBM492_DEL',\n",
       " 'G_P_GBM401_DEL',\n",
       " 'G_RR_GBM551_DEL',\n",
       " 'G_R_GBM498_DEL',\n",
       " 'H_P_GBM529_DEL',\n",
       " 'H_R_GBM832_DEL',\n",
       " 'I_P_BT2013110_DEL',\n",
       " 'I_R_GBM745_DEL',\n",
       " 'J_P_GBM703_DEL',\n",
       " 'J_R_SMTB781_DEL',\n",
       " 'X_P_GBM440_DEL',\n",
       " 'X_P_GBM577_DEL',\n",
       " 'X_P_GBM618_DEL',\n",
       " 'X_P_GBM672_DEL',\n",
       " 'X_P_SMTB123_DEL',\n",
       " 'X_R_GBM945_DEL',\n",
       " 'X_R_SMTB135_DEL',\n",
       " 'X_R_SMTB241_DEL',\n",
       " 'X_R_SMTB302_DEL',\n",
       " 'X_R_SMTB814_DEL']"
      ]
     },
     "execution_count": 7,
     "metadata": {},
     "output_type": "execute_result"
    }
   ],
   "source": [
    "somatic_large_DEL_filtered_df_names"
   ]
  },
  {
   "cell_type": "code",
   "execution_count": 8,
   "metadata": {},
   "outputs": [],
   "source": [
    "## Primary\n",
    "\n",
    "primary_large_DEL_heatmap = pd.DataFrame(columns=['chr', 'start', 'end', 'value'])\n",
    "\n",
    "for chrom in chromosomes:\n",
    "    \n",
    "    temp_matching_chrom_df_list = [globals()[i][globals()[i]['CHROM']==chrom] \\\n",
    "                                   for i in somatic_large_DEL_filtered_df_names if i.split('_')[1]=='P']\n",
    "    temp_output_df = heatmap_data(temp_matching_chrom_df_list, chrom)\n",
    "    \n",
    "    primary_large_DEL_heatmap = pd.concat([primary_large_DEL_heatmap.reset_index(drop=True), temp_output_df.reset_index(drop=True)], ignore_index=True)"
   ]
  },
  {
   "cell_type": "code",
   "execution_count": 9,
   "metadata": {},
   "outputs": [
    {
     "data": {
      "text/html": [
       "<div>\n",
       "<style scoped>\n",
       "    .dataframe tbody tr th:only-of-type {\n",
       "        vertical-align: middle;\n",
       "    }\n",
       "\n",
       "    .dataframe tbody tr th {\n",
       "        vertical-align: top;\n",
       "    }\n",
       "\n",
       "    .dataframe thead th {\n",
       "        text-align: right;\n",
       "    }\n",
       "</style>\n",
       "<table border=\"1\" class=\"dataframe\">\n",
       "  <thead>\n",
       "    <tr style=\"text-align: right;\">\n",
       "      <th></th>\n",
       "      <th>chr</th>\n",
       "      <th>start</th>\n",
       "      <th>end</th>\n",
       "      <th>value</th>\n",
       "    </tr>\n",
       "  </thead>\n",
       "  <tbody>\n",
       "    <tr>\n",
       "      <th>0</th>\n",
       "      <td>chr1</td>\n",
       "      <td>690000</td>\n",
       "      <td>2650000</td>\n",
       "      <td>1.0</td>\n",
       "    </tr>\n",
       "    <tr>\n",
       "      <th>1</th>\n",
       "      <td>chr1</td>\n",
       "      <td>2650001</td>\n",
       "      <td>4013220</td>\n",
       "      <td>0.0</td>\n",
       "    </tr>\n",
       "    <tr>\n",
       "      <th>2</th>\n",
       "      <td>chr1</td>\n",
       "      <td>4013221</td>\n",
       "      <td>4188641</td>\n",
       "      <td>1.0</td>\n",
       "    </tr>\n",
       "    <tr>\n",
       "      <th>3</th>\n",
       "      <td>chr1</td>\n",
       "      <td>4188642</td>\n",
       "      <td>13369999</td>\n",
       "      <td>0.0</td>\n",
       "    </tr>\n",
       "    <tr>\n",
       "      <th>4</th>\n",
       "      <td>chr1</td>\n",
       "      <td>13370000</td>\n",
       "      <td>16510000</td>\n",
       "      <td>1.0</td>\n",
       "    </tr>\n",
       "    <tr>\n",
       "      <th>...</th>\n",
       "      <td>...</td>\n",
       "      <td>...</td>\n",
       "      <td>...</td>\n",
       "      <td>...</td>\n",
       "    </tr>\n",
       "    <tr>\n",
       "      <th>394</th>\n",
       "      <td>chrX</td>\n",
       "      <td>155825948</td>\n",
       "      <td>155853816</td>\n",
       "      <td>1.0</td>\n",
       "    </tr>\n",
       "    <tr>\n",
       "      <th>395</th>\n",
       "      <td>chrX</td>\n",
       "      <td>155853817</td>\n",
       "      <td>155858906</td>\n",
       "      <td>2.0</td>\n",
       "    </tr>\n",
       "    <tr>\n",
       "      <th>396</th>\n",
       "      <td>chrX</td>\n",
       "      <td>155858907</td>\n",
       "      <td>155985002</td>\n",
       "      <td>3.0</td>\n",
       "    </tr>\n",
       "    <tr>\n",
       "      <th>397</th>\n",
       "      <td>chrX</td>\n",
       "      <td>155985003</td>\n",
       "      <td>155985024</td>\n",
       "      <td>2.0</td>\n",
       "    </tr>\n",
       "    <tr>\n",
       "      <th>398</th>\n",
       "      <td>chrX</td>\n",
       "      <td>155985025</td>\n",
       "      <td>155985025</td>\n",
       "      <td>1.0</td>\n",
       "    </tr>\n",
       "  </tbody>\n",
       "</table>\n",
       "<p>399 rows × 4 columns</p>\n",
       "</div>"
      ],
      "text/plain": [
       "      chr      start        end  value\n",
       "0    chr1     690000    2650000    1.0\n",
       "1    chr1    2650001    4013220    0.0\n",
       "2    chr1    4013221    4188641    1.0\n",
       "3    chr1    4188642   13369999    0.0\n",
       "4    chr1   13370000   16510000    1.0\n",
       "..    ...        ...        ...    ...\n",
       "394  chrX  155825948  155853816    1.0\n",
       "395  chrX  155853817  155858906    2.0\n",
       "396  chrX  155858907  155985002    3.0\n",
       "397  chrX  155985003  155985024    2.0\n",
       "398  chrX  155985025  155985025    1.0\n",
       "\n",
       "[399 rows x 4 columns]"
      ]
     },
     "execution_count": 9,
     "metadata": {},
     "output_type": "execute_result"
    }
   ],
   "source": [
    "primary_large_DEL_heatmap"
   ]
  },
  {
   "cell_type": "code",
   "execution_count": 10,
   "metadata": {},
   "outputs": [
    {
     "data": {
      "text/plain": [
       "8.0"
      ]
     },
     "execution_count": 10,
     "metadata": {},
     "output_type": "execute_result"
    }
   ],
   "source": [
    "max(primary_large_DEL_heatmap['value'])"
   ]
  },
  {
   "cell_type": "code",
   "execution_count": 11,
   "metadata": {},
   "outputs": [
    {
     "data": {
      "text/plain": [
       "13"
      ]
     },
     "execution_count": 11,
     "metadata": {},
     "output_type": "execute_result"
    }
   ],
   "source": [
    "len([i for i in somatic_large_DEL_filtered_df_names if i.split('_')[1]=='P'])"
   ]
  },
  {
   "cell_type": "code",
   "execution_count": 12,
   "metadata": {},
   "outputs": [],
   "source": [
    "CIRCOS_primary_sample_path = '/Users/ryanyutian/Desktop/Manuscript/CIRCOS/primary_relapse_data/primary'\n",
    "\n",
    "primary_large_DEL_heatmap.to_csv((CIRCOS_primary_sample_path + 'large_DEL_heatmap_primary_sample_raw.csv'), index=False, sep=',')"
   ]
  },
  {
   "cell_type": "code",
   "execution_count": 13,
   "metadata": {},
   "outputs": [],
   "source": [
    "primary_large_DEL_heatmap_nonzero = primary_large_DEL_heatmap[(primary_large_DEL_heatmap['value']!=0)]"
   ]
  },
  {
   "cell_type": "code",
   "execution_count": 14,
   "metadata": {},
   "outputs": [],
   "source": [
    "CIRCOS_primary_sample_path = '/Users/ryanyutian/Desktop/Manuscript/CIRCOS/primary_relapse_data/primary'\n",
    "\n",
    "primary_large_DEL_heatmap_nonzero.to_csv((CIRCOS_primary_sample_path + 'large_DEL_heatmap_primary_sample_nonzero.csv'), index=False, sep=',')"
   ]
  },
  {
   "cell_type": "code",
   "execution_count": 15,
   "metadata": {},
   "outputs": [],
   "source": [
    "primary_large_DEL_heatmap_percentage = primary_large_DEL_heatmap_nonzero.copy()\n",
    "primary_large_DEL_heatmap_percentage['value'] = primary_large_DEL_heatmap_percentage['value']/13"
   ]
  },
  {
   "cell_type": "code",
   "execution_count": 16,
   "metadata": {},
   "outputs": [],
   "source": [
    "CIRCOS_primary_sample_path = '/Users/ryanyutian/Desktop/Manuscript/CIRCOS/primary_relapse_data/primary'\n",
    "\n",
    "primary_large_DEL_heatmap_percentage.to_csv((CIRCOS_primary_sample_path + 'large_DEL_heatmap_primary_sample_percent.csv'), index=False, sep=',')"
   ]
  },
  {
   "cell_type": "code",
   "execution_count": null,
   "metadata": {},
   "outputs": [],
   "source": []
  },
  {
   "cell_type": "code",
   "execution_count": 17,
   "metadata": {},
   "outputs": [],
   "source": [
    "## Recurrent\n",
    "\n",
    "recurrent_large_DEL_heatmap = pd.DataFrame(columns=['chr', 'start', 'end', 'value'])\n",
    "\n",
    "for chrom in chromosomes:\n",
    "    \n",
    "    temp_matching_chrom_df_list = [globals()[i][globals()[i]['CHROM']==chrom] \\\n",
    "                                   for i in somatic_large_DEL_filtered_df_names if i.split('_')[1]!='P']\n",
    "    temp_output_df = heatmap_data(temp_matching_chrom_df_list, chrom)\n",
    "    \n",
    "    recurrent_large_DEL_heatmap = pd.concat([recurrent_large_DEL_heatmap.reset_index(drop=True), temp_output_df.reset_index(drop=True)], ignore_index=True)"
   ]
  },
  {
   "cell_type": "code",
   "execution_count": 18,
   "metadata": {},
   "outputs": [
    {
     "data": {
      "text/html": [
       "<div>\n",
       "<style scoped>\n",
       "    .dataframe tbody tr th:only-of-type {\n",
       "        vertical-align: middle;\n",
       "    }\n",
       "\n",
       "    .dataframe tbody tr th {\n",
       "        vertical-align: top;\n",
       "    }\n",
       "\n",
       "    .dataframe thead th {\n",
       "        text-align: right;\n",
       "    }\n",
       "</style>\n",
       "<table border=\"1\" class=\"dataframe\">\n",
       "  <thead>\n",
       "    <tr style=\"text-align: right;\">\n",
       "      <th></th>\n",
       "      <th>chr</th>\n",
       "      <th>start</th>\n",
       "      <th>end</th>\n",
       "      <th>value</th>\n",
       "    </tr>\n",
       "  </thead>\n",
       "  <tbody>\n",
       "    <tr>\n",
       "      <th>0</th>\n",
       "      <td>chr1</td>\n",
       "      <td>690000</td>\n",
       "      <td>1650000</td>\n",
       "      <td>1.0</td>\n",
       "    </tr>\n",
       "    <tr>\n",
       "      <th>1</th>\n",
       "      <td>chr1</td>\n",
       "      <td>1650001</td>\n",
       "      <td>1739999</td>\n",
       "      <td>0.0</td>\n",
       "    </tr>\n",
       "    <tr>\n",
       "      <th>2</th>\n",
       "      <td>chr1</td>\n",
       "      <td>1740000</td>\n",
       "      <td>2650000</td>\n",
       "      <td>1.0</td>\n",
       "    </tr>\n",
       "    <tr>\n",
       "      <th>3</th>\n",
       "      <td>chr1</td>\n",
       "      <td>2650001</td>\n",
       "      <td>5959999</td>\n",
       "      <td>0.0</td>\n",
       "    </tr>\n",
       "    <tr>\n",
       "      <th>4</th>\n",
       "      <td>chr1</td>\n",
       "      <td>5960000</td>\n",
       "      <td>6270000</td>\n",
       "      <td>1.0</td>\n",
       "    </tr>\n",
       "    <tr>\n",
       "      <th>...</th>\n",
       "      <td>...</td>\n",
       "      <td>...</td>\n",
       "      <td>...</td>\n",
       "      <td>...</td>\n",
       "    </tr>\n",
       "    <tr>\n",
       "      <th>1256</th>\n",
       "      <td>chrX</td>\n",
       "      <td>155984108</td>\n",
       "      <td>155984222</td>\n",
       "      <td>5.0</td>\n",
       "    </tr>\n",
       "    <tr>\n",
       "      <th>1257</th>\n",
       "      <td>chrX</td>\n",
       "      <td>155984223</td>\n",
       "      <td>155984254</td>\n",
       "      <td>4.0</td>\n",
       "    </tr>\n",
       "    <tr>\n",
       "      <th>1258</th>\n",
       "      <td>chrX</td>\n",
       "      <td>155984255</td>\n",
       "      <td>155984259</td>\n",
       "      <td>3.0</td>\n",
       "    </tr>\n",
       "    <tr>\n",
       "      <th>1259</th>\n",
       "      <td>chrX</td>\n",
       "      <td>155984260</td>\n",
       "      <td>155984263</td>\n",
       "      <td>2.0</td>\n",
       "    </tr>\n",
       "    <tr>\n",
       "      <th>1260</th>\n",
       "      <td>chrX</td>\n",
       "      <td>155984264</td>\n",
       "      <td>155985006</td>\n",
       "      <td>1.0</td>\n",
       "    </tr>\n",
       "  </tbody>\n",
       "</table>\n",
       "<p>1261 rows × 4 columns</p>\n",
       "</div>"
      ],
      "text/plain": [
       "       chr      start        end  value\n",
       "0     chr1     690000    1650000    1.0\n",
       "1     chr1    1650001    1739999    0.0\n",
       "2     chr1    1740000    2650000    1.0\n",
       "3     chr1    2650001    5959999    0.0\n",
       "4     chr1    5960000    6270000    1.0\n",
       "...    ...        ...        ...    ...\n",
       "1256  chrX  155984108  155984222    5.0\n",
       "1257  chrX  155984223  155984254    4.0\n",
       "1258  chrX  155984255  155984259    3.0\n",
       "1259  chrX  155984260  155984263    2.0\n",
       "1260  chrX  155984264  155985006    1.0\n",
       "\n",
       "[1261 rows x 4 columns]"
      ]
     },
     "execution_count": 18,
     "metadata": {},
     "output_type": "execute_result"
    }
   ],
   "source": [
    "recurrent_large_DEL_heatmap"
   ]
  },
  {
   "cell_type": "code",
   "execution_count": 19,
   "metadata": {},
   "outputs": [
    {
     "data": {
      "text/plain": [
       "8.0"
      ]
     },
     "execution_count": 19,
     "metadata": {},
     "output_type": "execute_result"
    }
   ],
   "source": [
    "max(recurrent_large_DEL_heatmap['value'])"
   ]
  },
  {
   "cell_type": "code",
   "execution_count": 20,
   "metadata": {},
   "outputs": [
    {
     "data": {
      "text/plain": [
       "18"
      ]
     },
     "execution_count": 20,
     "metadata": {},
     "output_type": "execute_result"
    }
   ],
   "source": [
    "len([i for i in somatic_large_DEL_filtered_df_names if i.split('_')[1]!='P'])"
   ]
  },
  {
   "cell_type": "code",
   "execution_count": 21,
   "metadata": {},
   "outputs": [],
   "source": [
    "CIRCOS_recurrent_sample_path = '/Users/ryanyutian/Desktop/Manuscript/CIRCOS/primary_relapse_data/recurrent/'\n",
    "\n",
    "recurrent_large_DEL_heatmap.to_csv((CIRCOS_recurrent_sample_path + 'large_DEL_heatmap_recurrent_sample_raw.csv'), index=False, sep=',')"
   ]
  },
  {
   "cell_type": "code",
   "execution_count": 22,
   "metadata": {},
   "outputs": [],
   "source": [
    "recurrent_large_DEL_heatmap_nonzero = recurrent_large_DEL_heatmap[(recurrent_large_DEL_heatmap['value']!=0)]"
   ]
  },
  {
   "cell_type": "code",
   "execution_count": 23,
   "metadata": {},
   "outputs": [],
   "source": [
    "CIRCOS_recurrent_sample_path = '/Users/ryanyutian/Desktop/Manuscript/CIRCOS/primary_relapse_data/recurrent/'\n",
    "\n",
    "recurrent_large_DEL_heatmap_nonzero.to_csv((CIRCOS_recurrent_sample_path + 'large_DEL_heatmap_recurrent_sample_nonzero.csv'), index=False, sep=',')"
   ]
  },
  {
   "cell_type": "code",
   "execution_count": 24,
   "metadata": {},
   "outputs": [],
   "source": [
    "recurrent_large_DEL_heatmap_percentage = recurrent_large_DEL_heatmap_nonzero.copy()\n",
    "recurrent_large_DEL_heatmap_percentage['value'] = recurrent_large_DEL_heatmap_percentage['value']/23"
   ]
  },
  {
   "cell_type": "code",
   "execution_count": 25,
   "metadata": {},
   "outputs": [],
   "source": [
    "CIRCOS_recurrent_sample_path = '/Users/ryanyutian/Desktop/Manuscript/CIRCOS/primary_relapse_data/recurrent/'\n",
    "\n",
    "recurrent_large_DEL_heatmap_percentage.to_csv((CIRCOS_recurrent_sample_path + 'large_DEL_heatmap_recurrent_sample_percent.csv'), index=False, sep=',')"
   ]
  },
  {
   "cell_type": "markdown",
   "metadata": {},
   "source": [
    "## Large duplications"
   ]
  },
  {
   "cell_type": "code",
   "execution_count": 26,
   "metadata": {},
   "outputs": [],
   "source": [
    "### Load filtered somatic large duplications ###\n",
    "\n",
    "##\n",
    "somatic_large_DUP_path = '/Users/ryanyutian/Desktop/Manuscript/filtered_sv/DUP'\n",
    "\n",
    "somatic_large_DUP_filtered_df_names = []\n",
    "\n",
    "os.chdir(somatic_large_DUP_path)\n",
    "temp_files = sorted([i for i in os.listdir(somatic_large_DUP_path) if 'DS' not in i])\n",
    "\n",
    "for file_name in temp_files:\n",
    "    \n",
    "    globals()[file_name[:-4]] = pd.read_csv(file_name)\n",
    "    somatic_large_DUP_filtered_df_names.append(file_name[:-4])"
   ]
  },
  {
   "cell_type": "code",
   "execution_count": 27,
   "metadata": {},
   "outputs": [],
   "source": [
    "## Primary\n",
    "\n",
    "primary_large_DUP_heatmap = pd.DataFrame(columns=['chr', 'start', 'end', 'value'])\n",
    "\n",
    "for chrom in chromosomes:\n",
    "    \n",
    "    temp_matching_chrom_df_list = [globals()[i][globals()[i]['CHROM']==chrom] \\\n",
    "                                   for i in somatic_large_DUP_filtered_df_names if i.split('_')[1]=='P']\n",
    "    temp_output_df = heatmap_data(temp_matching_chrom_df_list, chrom)\n",
    "    \n",
    "    primary_large_DUP_heatmap = pd.concat([primary_large_DUP_heatmap.reset_index(drop=True), temp_output_df.reset_index(drop=True)], ignore_index=True)"
   ]
  },
  {
   "cell_type": "code",
   "execution_count": 28,
   "metadata": {},
   "outputs": [
    {
     "data": {
      "text/html": [
       "<div>\n",
       "<style scoped>\n",
       "    .dataframe tbody tr th:only-of-type {\n",
       "        vertical-align: middle;\n",
       "    }\n",
       "\n",
       "    .dataframe tbody tr th {\n",
       "        vertical-align: top;\n",
       "    }\n",
       "\n",
       "    .dataframe thead th {\n",
       "        text-align: right;\n",
       "    }\n",
       "</style>\n",
       "<table border=\"1\" class=\"dataframe\">\n",
       "  <thead>\n",
       "    <tr style=\"text-align: right;\">\n",
       "      <th></th>\n",
       "      <th>chr</th>\n",
       "      <th>start</th>\n",
       "      <th>end</th>\n",
       "      <th>value</th>\n",
       "    </tr>\n",
       "  </thead>\n",
       "  <tbody>\n",
       "    <tr>\n",
       "      <th>0</th>\n",
       "      <td>chr1</td>\n",
       "      <td>1650000</td>\n",
       "      <td>1730000</td>\n",
       "      <td>3.0</td>\n",
       "    </tr>\n",
       "    <tr>\n",
       "      <th>1</th>\n",
       "      <td>chr1</td>\n",
       "      <td>1730001</td>\n",
       "      <td>1740000</td>\n",
       "      <td>2.0</td>\n",
       "    </tr>\n",
       "    <tr>\n",
       "      <th>2</th>\n",
       "      <td>chr1</td>\n",
       "      <td>1740001</td>\n",
       "      <td>3976314</td>\n",
       "      <td>0.0</td>\n",
       "    </tr>\n",
       "    <tr>\n",
       "      <th>3</th>\n",
       "      <td>chr1</td>\n",
       "      <td>3976315</td>\n",
       "      <td>4006403</td>\n",
       "      <td>1.0</td>\n",
       "    </tr>\n",
       "    <tr>\n",
       "      <th>4</th>\n",
       "      <td>chr1</td>\n",
       "      <td>4006404</td>\n",
       "      <td>13099999</td>\n",
       "      <td>0.0</td>\n",
       "    </tr>\n",
       "    <tr>\n",
       "      <th>...</th>\n",
       "      <td>...</td>\n",
       "      <td>...</td>\n",
       "      <td>...</td>\n",
       "      <td>...</td>\n",
       "    </tr>\n",
       "    <tr>\n",
       "      <th>725</th>\n",
       "      <td>chrX</td>\n",
       "      <td>155311266</td>\n",
       "      <td>155336689</td>\n",
       "      <td>2.0</td>\n",
       "    </tr>\n",
       "    <tr>\n",
       "      <th>726</th>\n",
       "      <td>chrX</td>\n",
       "      <td>155336690</td>\n",
       "      <td>155470374</td>\n",
       "      <td>1.0</td>\n",
       "    </tr>\n",
       "    <tr>\n",
       "      <th>727</th>\n",
       "      <td>chrX</td>\n",
       "      <td>155470375</td>\n",
       "      <td>155641405</td>\n",
       "      <td>0.0</td>\n",
       "    </tr>\n",
       "    <tr>\n",
       "      <th>728</th>\n",
       "      <td>chrX</td>\n",
       "      <td>155641406</td>\n",
       "      <td>155958275</td>\n",
       "      <td>1.0</td>\n",
       "    </tr>\n",
       "    <tr>\n",
       "      <th>729</th>\n",
       "      <td>chrY</td>\n",
       "      <td>16117433</td>\n",
       "      <td>16179600</td>\n",
       "      <td>1.0</td>\n",
       "    </tr>\n",
       "  </tbody>\n",
       "</table>\n",
       "<p>730 rows × 4 columns</p>\n",
       "</div>"
      ],
      "text/plain": [
       "      chr      start        end  value\n",
       "0    chr1    1650000    1730000    3.0\n",
       "1    chr1    1730001    1740000    2.0\n",
       "2    chr1    1740001    3976314    0.0\n",
       "3    chr1    3976315    4006403    1.0\n",
       "4    chr1    4006404   13099999    0.0\n",
       "..    ...        ...        ...    ...\n",
       "725  chrX  155311266  155336689    2.0\n",
       "726  chrX  155336690  155470374    1.0\n",
       "727  chrX  155470375  155641405    0.0\n",
       "728  chrX  155641406  155958275    1.0\n",
       "729  chrY   16117433   16179600    1.0\n",
       "\n",
       "[730 rows x 4 columns]"
      ]
     },
     "execution_count": 28,
     "metadata": {},
     "output_type": "execute_result"
    }
   ],
   "source": [
    "primary_large_DUP_heatmap"
   ]
  },
  {
   "cell_type": "code",
   "execution_count": 29,
   "metadata": {},
   "outputs": [
    {
     "data": {
      "text/plain": [
       "7.0"
      ]
     },
     "execution_count": 29,
     "metadata": {},
     "output_type": "execute_result"
    }
   ],
   "source": [
    "max(primary_large_DUP_heatmap['value'])"
   ]
  },
  {
   "cell_type": "code",
   "execution_count": 30,
   "metadata": {},
   "outputs": [],
   "source": [
    "condition = ~((primary_large_DUP_heatmap['chr'] == 'chr12') & \n",
    "              (primary_large_DUP_heatmap['start'] >= 17648133) & \n",
    "              (primary_large_DUP_heatmap['end'] <= 17987890))\n",
    "\n",
    "primary_large_DUP_heatmap = primary_large_DUP_heatmap[condition]\n"
   ]
  },
  {
   "cell_type": "code",
   "execution_count": 31,
   "metadata": {},
   "outputs": [
    {
     "data": {
      "text/plain": [
       "7.0"
      ]
     },
     "execution_count": 31,
     "metadata": {},
     "output_type": "execute_result"
    }
   ],
   "source": [
    "max(primary_large_DUP_heatmap['value'])"
   ]
  },
  {
   "cell_type": "code",
   "execution_count": 32,
   "metadata": {},
   "outputs": [
    {
     "data": {
      "text/plain": [
       "13"
      ]
     },
     "execution_count": 32,
     "metadata": {},
     "output_type": "execute_result"
    }
   ],
   "source": [
    "len([i for i in somatic_large_DUP_filtered_df_names if i.split('_')[1]=='P'])"
   ]
  },
  {
   "cell_type": "code",
   "execution_count": 33,
   "metadata": {},
   "outputs": [],
   "source": [
    "CIRCOS_primary_sample_path = '/Users/ryanyutian/Desktop/Manuscript/CIRCOS/primary_relapse_data/primary'\n",
    "\n",
    "primary_large_DUP_heatmap.to_csv((CIRCOS_primary_sample_path + 'large_DUP_heatmap_primary_sample_raw.csv'), index=False, sep=',')"
   ]
  },
  {
   "cell_type": "code",
   "execution_count": 34,
   "metadata": {},
   "outputs": [],
   "source": [
    "primary_large_DUP_heatmap_nonzero = primary_large_DUP_heatmap[(primary_large_DUP_heatmap['value']!=0)]"
   ]
  },
  {
   "cell_type": "code",
   "execution_count": 35,
   "metadata": {},
   "outputs": [],
   "source": [
    "CIRCOS_primary_sample_path = '/Users/ryanyutian/Desktop/Manuscript/CIRCOS/primary_relapse_data/primary'\n",
    "\n",
    "primary_large_DUP_heatmap_nonzero.to_csv((CIRCOS_primary_sample_path + 'large_DUP_heatmap_primary_sample_nonzero.csv'), index=False, sep=',')"
   ]
  },
  {
   "cell_type": "code",
   "execution_count": 36,
   "metadata": {},
   "outputs": [],
   "source": [
    "primary_large_DUP_heatmap_percentage = primary_large_DUP_heatmap_nonzero.copy()\n",
    "primary_large_DUP_heatmap_percentage['value'] = primary_large_DUP_heatmap_percentage['value']/13"
   ]
  },
  {
   "cell_type": "code",
   "execution_count": 37,
   "metadata": {},
   "outputs": [],
   "source": [
    "CIRCOS_primary_sample_path = '/Users/ryanyutian/Desktop/Manuscript/CIRCOS/primary_relapse_data/primary'\n",
    "\n",
    "primary_large_DUP_heatmap_percentage.to_csv((CIRCOS_primary_sample_path + 'large_DUP_heatmap_primary_sample_percent.csv'), index=False, sep=',')"
   ]
  },
  {
   "cell_type": "code",
   "execution_count": null,
   "metadata": {},
   "outputs": [],
   "source": []
  },
  {
   "cell_type": "code",
   "execution_count": 38,
   "metadata": {},
   "outputs": [],
   "source": [
    "## Recurrent\n",
    "\n",
    "recurrent_large_DUP_heatmap = pd.DataFrame(columns=['chr', 'start', 'end', 'value'])\n",
    "\n",
    "for chrom in chromosomes:\n",
    "    \n",
    "    temp_matching_chrom_df_list = [globals()[i][globals()[i]['CHROM']==chrom] \\\n",
    "                                   for i in somatic_large_DUP_filtered_df_names if i.split('_')[1]!='P']\n",
    "    temp_output_df = heatmap_data(temp_matching_chrom_df_list, chrom)\n",
    "    \n",
    "    recurrent_large_DUP_heatmap = pd.concat([recurrent_large_DUP_heatmap.reset_index(drop=True), temp_output_df.reset_index(drop=True)], ignore_index=True)"
   ]
  },
  {
   "cell_type": "code",
   "execution_count": 39,
   "metadata": {},
   "outputs": [
    {
     "data": {
      "text/html": [
       "<div>\n",
       "<style scoped>\n",
       "    .dataframe tbody tr th:only-of-type {\n",
       "        vertical-align: middle;\n",
       "    }\n",
       "\n",
       "    .dataframe tbody tr th {\n",
       "        vertical-align: top;\n",
       "    }\n",
       "\n",
       "    .dataframe thead th {\n",
       "        text-align: right;\n",
       "    }\n",
       "</style>\n",
       "<table border=\"1\" class=\"dataframe\">\n",
       "  <thead>\n",
       "    <tr style=\"text-align: right;\">\n",
       "      <th></th>\n",
       "      <th>chr</th>\n",
       "      <th>start</th>\n",
       "      <th>end</th>\n",
       "      <th>value</th>\n",
       "    </tr>\n",
       "  </thead>\n",
       "  <tbody>\n",
       "    <tr>\n",
       "      <th>0</th>\n",
       "      <td>chr1</td>\n",
       "      <td>590000</td>\n",
       "      <td>950000</td>\n",
       "      <td>1.0</td>\n",
       "    </tr>\n",
       "    <tr>\n",
       "      <th>1</th>\n",
       "      <td>chr1</td>\n",
       "      <td>950001</td>\n",
       "      <td>1639999</td>\n",
       "      <td>0.0</td>\n",
       "    </tr>\n",
       "    <tr>\n",
       "      <th>2</th>\n",
       "      <td>chr1</td>\n",
       "      <td>1640000</td>\n",
       "      <td>1649999</td>\n",
       "      <td>3.0</td>\n",
       "    </tr>\n",
       "    <tr>\n",
       "      <th>3</th>\n",
       "      <td>chr1</td>\n",
       "      <td>1650000</td>\n",
       "      <td>1730000</td>\n",
       "      <td>4.0</td>\n",
       "    </tr>\n",
       "    <tr>\n",
       "      <th>4</th>\n",
       "      <td>chr1</td>\n",
       "      <td>1730001</td>\n",
       "      <td>1740000</td>\n",
       "      <td>3.0</td>\n",
       "    </tr>\n",
       "    <tr>\n",
       "      <th>...</th>\n",
       "      <td>...</td>\n",
       "      <td>...</td>\n",
       "      <td>...</td>\n",
       "      <td>...</td>\n",
       "    </tr>\n",
       "    <tr>\n",
       "      <th>1149</th>\n",
       "      <td>chrY</td>\n",
       "      <td>20943060</td>\n",
       "      <td>21064800</td>\n",
       "      <td>1.0</td>\n",
       "    </tr>\n",
       "    <tr>\n",
       "      <th>1150</th>\n",
       "      <td>chrY</td>\n",
       "      <td>21064801</td>\n",
       "      <td>22208280</td>\n",
       "      <td>0.0</td>\n",
       "    </tr>\n",
       "    <tr>\n",
       "      <th>1151</th>\n",
       "      <td>chrY</td>\n",
       "      <td>22208281</td>\n",
       "      <td>22262957</td>\n",
       "      <td>1.0</td>\n",
       "    </tr>\n",
       "    <tr>\n",
       "      <th>1152</th>\n",
       "      <td>chrY</td>\n",
       "      <td>22262958</td>\n",
       "      <td>22299244</td>\n",
       "      <td>0.0</td>\n",
       "    </tr>\n",
       "    <tr>\n",
       "      <th>1153</th>\n",
       "      <td>chrY</td>\n",
       "      <td>22299245</td>\n",
       "      <td>22377848</td>\n",
       "      <td>1.0</td>\n",
       "    </tr>\n",
       "  </tbody>\n",
       "</table>\n",
       "<p>1154 rows × 4 columns</p>\n",
       "</div>"
      ],
      "text/plain": [
       "       chr     start       end  value\n",
       "0     chr1    590000    950000    1.0\n",
       "1     chr1    950001   1639999    0.0\n",
       "2     chr1   1640000   1649999    3.0\n",
       "3     chr1   1650000   1730000    4.0\n",
       "4     chr1   1730001   1740000    3.0\n",
       "...    ...       ...       ...    ...\n",
       "1149  chrY  20943060  21064800    1.0\n",
       "1150  chrY  21064801  22208280    0.0\n",
       "1151  chrY  22208281  22262957    1.0\n",
       "1152  chrY  22262958  22299244    0.0\n",
       "1153  chrY  22299245  22377848    1.0\n",
       "\n",
       "[1154 rows x 4 columns]"
      ]
     },
     "execution_count": 39,
     "metadata": {},
     "output_type": "execute_result"
    }
   ],
   "source": [
    "recurrent_large_DUP_heatmap"
   ]
  },
  {
   "cell_type": "code",
   "execution_count": 40,
   "metadata": {},
   "outputs": [
    {
     "data": {
      "text/plain": [
       "11.0"
      ]
     },
     "execution_count": 40,
     "metadata": {},
     "output_type": "execute_result"
    }
   ],
   "source": [
    "max(recurrent_large_DUP_heatmap['value'])"
   ]
  },
  {
   "cell_type": "code",
   "execution_count": 41,
   "metadata": {},
   "outputs": [],
   "source": [
    "condition = ~((recurrent_large_DUP_heatmap['chr'] == 'chr12') & \n",
    "              (recurrent_large_DUP_heatmap['start'] >= 17648133) & \n",
    "              (recurrent_large_DUP_heatmap['end'] <= 17987890))\n",
    "\n",
    "recurrent_large_DUP_heatmap = recurrent_large_DUP_heatmap[condition]\n"
   ]
  },
  {
   "cell_type": "code",
   "execution_count": 42,
   "metadata": {},
   "outputs": [
    {
     "data": {
      "text/plain": [
       "11.0"
      ]
     },
     "execution_count": 42,
     "metadata": {},
     "output_type": "execute_result"
    }
   ],
   "source": [
    "max(recurrent_large_DUP_heatmap['value'])"
   ]
  },
  {
   "cell_type": "code",
   "execution_count": 43,
   "metadata": {},
   "outputs": [
    {
     "data": {
      "text/plain": [
       "18"
      ]
     },
     "execution_count": 43,
     "metadata": {},
     "output_type": "execute_result"
    }
   ],
   "source": [
    "len([i for i in somatic_large_DUP_filtered_df_names if i.split('_')[1]!='P'])"
   ]
  },
  {
   "cell_type": "code",
   "execution_count": 44,
   "metadata": {},
   "outputs": [],
   "source": [
    "CIRCOS_recurrent_sample_path = '/Users/ryanyutian/Desktop/Manuscript/CIRCOS/primary_relapse_data/recurrent/'\n",
    "\n",
    "recurrent_large_DUP_heatmap.to_csv((CIRCOS_recurrent_sample_path + 'large_DUP_heatmap_recurrent_sample_raw.csv'), index=False, sep=',')"
   ]
  },
  {
   "cell_type": "code",
   "execution_count": 45,
   "metadata": {},
   "outputs": [],
   "source": [
    "recurrent_large_DUP_heatmap_nonzero = recurrent_large_DUP_heatmap[(recurrent_large_DUP_heatmap['value']!=0)]"
   ]
  },
  {
   "cell_type": "code",
   "execution_count": 46,
   "metadata": {},
   "outputs": [],
   "source": [
    "CIRCOS_recurrent_sample_path = '/Users/ryanyutian/Desktop/Manuscript/CIRCOS/primary_relapse_data/recurrent/'\n",
    "\n",
    "recurrent_large_DUP_heatmap_nonzero.to_csv((CIRCOS_recurrent_sample_path + 'large_DUP_heatmap_recurrent_sample_nonzero.csv'), index=False, sep=',')"
   ]
  },
  {
   "cell_type": "code",
   "execution_count": 47,
   "metadata": {},
   "outputs": [],
   "source": [
    "recurrent_large_DUP_heatmap_percentage = recurrent_large_DUP_heatmap_nonzero.copy()\n",
    "recurrent_large_DUP_heatmap_percentage['value'] = recurrent_large_DUP_heatmap_percentage['value']/23"
   ]
  },
  {
   "cell_type": "code",
   "execution_count": 48,
   "metadata": {},
   "outputs": [],
   "source": [
    "CIRCOS_recurrent_sample_path = '/Users/ryanyutian/Desktop/Manuscript/CIRCOS/primary_relapse_data/recurrent/'\n",
    "\n",
    "recurrent_large_DUP_heatmap_percentage.to_csv((CIRCOS_recurrent_sample_path + 'large_DUP_heatmap_recurrent_sample_percent.csv'), index=False, sep=',')"
   ]
  }
 ],
 "metadata": {
  "kernelspec": {
   "display_name": "Python 3",
   "language": "python",
   "name": "python3"
  },
  "language_info": {
   "codemirror_mode": {
    "name": "ipython",
    "version": 3
   },
   "file_extension": ".py",
   "mimetype": "text/x-python",
   "name": "python",
   "nbconvert_exporter": "python",
   "pygments_lexer": "ipython3",
   "version": "3.8.5"
  }
 },
 "nbformat": 4,
 "nbformat_minor": 5
}
